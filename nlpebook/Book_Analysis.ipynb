{
 "cells": [
  {
   "cell_type": "code",
   "execution_count": 13,
   "id": "0d006d3a-0dd7-49c4-be0a-41095e165e5a",
   "metadata": {},
   "outputs": [],
   "source": [
    "with open(\"miracle_in_the_andes.txt\",\"r\",encoding=\"utf-8\") as file:\n",
    "    book=file.read()"
   ]
  },
  {
   "cell_type": "code",
   "execution_count": 12,
   "id": "4842e11f-6302-4374-b7b2-7cde6253252e",
   "metadata": {},
   "outputs": [
    {
     "data": {
      "text/plain": [
       "str"
      ]
     },
     "execution_count": 12,
     "metadata": {},
     "output_type": "execute_result"
    }
   ],
   "source": [
    "type(book)"
   ]
  },
  {
   "cell_type": "markdown",
   "id": "2737663c-f2eb-41ad-80f5-5c545a395ce7",
   "metadata": {},
   "source": [
    "# how many chapters"
   ]
  },
  {
   "cell_type": "code",
   "execution_count": 16,
   "id": "d7a31228-926e-417b-b114-483f597bee91",
   "metadata": {},
   "outputs": [
    {
     "data": {
      "text/plain": [
       "11"
      ]
     },
     "execution_count": 16,
     "metadata": {},
     "output_type": "execute_result"
    }
   ],
   "source": [
    "book.count(\"Chapter\")"
   ]
  },
  {
   "cell_type": "markdown",
   "id": "91b52397-9fdb-4e43-bc5f-1ff0bca741fe",
   "metadata": {},
   "source": [
    "# with regex"
   ]
  },
  {
   "cell_type": "code",
   "execution_count": 22,
   "id": "bb1cd896-4e3d-42cc-a7fa-ce991bb8261a",
   "metadata": {},
   "outputs": [
    {
     "data": {
      "text/plain": [
       "['Chapter 1',\n",
       " 'Chapter 2',\n",
       " 'Chapter 3',\n",
       " 'Chapter 4',\n",
       " 'Chapter 5',\n",
       " 'Chapter 6',\n",
       " 'Chapter 7',\n",
       " 'Chapter 8',\n",
       " 'Chapter 9',\n",
       " 'Chapter 10']"
      ]
     },
     "execution_count": 22,
     "metadata": {},
     "output_type": "execute_result"
    }
   ],
   "source": [
    "import re\n",
    "pattern=re.compile(\"Chapter [0-9]+\")\n",
    "re.findall(pattern,book)"
   ]
  },
  {
   "cell_type": "markdown",
   "id": "1249b91c-1b31-4a57-b833-fc3157788e4f",
   "metadata": {},
   "source": [
    "# which sentence where love was used?"
   ]
  },
  {
   "cell_type": "code",
   "execution_count": 25,
   "id": "9f8bcf86-15b2-492a-b0b1-89443cdfe734",
   "metadata": {},
   "outputs": [
    {
     "data": {
      "text/plain": [
       "[' As a young man, of course, I could not put these things into words, but I knew, and my teammates knew, that there was something special about the game, and under the guidance of the Christian Brothers we developed a passionate love for the sport that shaped our friendships and our lives',\n",
       " ' Guido and I grew up together, playing soccer and sharing a love of motorcycles, cars, and auto racing',\n",
       " ' Under the guidance of the Christian Brothers, both of us grew to love the game of rugby with a consuming passion',\n",
       " ' That rowdiness came to an abrupt end for Guido in 1969, when he met and fell in love with the beautiful daughter of a Chilean diplomat',\n",
       " ' I believe he had a great hunger for the love and comforts of a family that was happy and whole',\n",
       " ' He shared, with my father and me, a love for cars and driving, and he loved going with us to auto races',\n",
       " ' The house had a beautiful view of the sea, and this more than anything made my mother love it',\n",
       " ' She was a true tower of strength, but her strength was always based in warmth and love and because of her love and protection I grew up believing the world was a safe, familiar place',\n",
       " ' He had given us a life of comfort and privilege such as his own father never could have imagined, he had provided for us and protected us in the best way he could, and though he was not an emotionally expressive man, he always showed his love for us subtly, quietly, and in ways that were true to the man he was',\n",
       " ' Out of love for his family he had arranged in his mind a future that would keep us all safe, happy, and always together',\n",
       " ' Susy shared my mother’s love for the closeness of family, but she was no stay-at-home girl',\n",
       " ' When she was sixteen she spent a year as an exchange student living with a family in Florida, an experience that taught her to love the U',\n",
       " ' As I lay beside her, the sweetness of my love for her, for my lost friends and my family, for the suddenly fragile notion of my own life and future, swelled in my heart with an ache so profound it sapped all my strength, and for a moment I thought I would pass out',\n",
       " ' I pressed my cheek against hers so I could feel her warm breath on my face, and held her that way all night, gently, but very close, never letting go, embracing her as if I were embracing all the love and peace and joy I had ever known and would ever know; as if by holding on tight I could keep everything precious from slipping away',\n",
       " ' I felt my love for my father tugging at me like a lifeline, drawing me toward those barren slopes',\n",
       " '\\n\\nIn the days after Susy died, my love for my father was the only thing that kept me sane, and time after time I would calm myself by reaffirming the promise I had made at Susy’s grave: to return to him; to show him I had survived and to ease his suffering a little',\n",
       " '\\n\\nThinking of my father this way always triggered in me a burst of love so radiant and urgent that it took my breath away',\n",
       " ' Bobby, are you warm enough? Do you want me to rub your feet?” She worried constantly about the children she had left at home, but still she had the courage and love to mother these frightened boys who were so far from their families',\n",
       " ' It was our job to follow His commandments, to take the sacraments, to love God and to love others as Jesus had taught us',\n",
       " ' I would think of him and let my heart fill with love for him, and this love would be stronger than my suffering, or my fear',\n",
       " ' After two weeks on the mountain, my love for my father had taken on the irresistible power of a biological drive',\n",
       " ' “All we can do is love God and love others and trust in God’s will',\n",
       " ' Even if we are trapped here forever, we can love our families, and God, and each other as long as we live',\n",
       " '\\n\\n“You will tell my family that I love them, won’t you? That’s all that matters to me now',\n",
       " ' But he lived so many lifetimes, had so many adventures, and, macho, he made love to so many beautiful girls',\n",
       " ' The shoes were magical for me because my mother had chosen them with such love for her grandson, and had handled them so tenderly on the plane',\n",
       " ' My love for my father swelled in my heart, and I realized that, despite the hopelessness of my situation, the memory of him filled me with joy',\n",
       " ' Only love can turn mere life into a miracle, and draw precious meaning from suffering and fear',\n",
       " ' I would walk through the godforsaken country that separated me from my home with love and hope in my heart',\n",
       " ' But still, still, I longed for the very things I knew I would never have—the love of a wife, a family of my own, a reunion with my grandmother and older sister, and always the embrace of my father',\n",
       " ' My ordeal had simplified my mind and whittled me down very close to the essence of what I was, and now I saw that this longing, this love and affection for the very idea of my life, was a deeper part of me than hopelessness or fear or pain or hunger',\n",
       " ' In seconds she was in my arms, and my heart swelled with love as I held her',\n",
       " '”\\n\\nThere was so much I wanted to tell him, that I had thought of him every moment, that his love had been the guiding light that led me to safety',\n",
       " ' Where should I begin? “I love it,” I said, finally',\n",
       " ' She stepped off the train with only a backpack and a small duffel, looking very beautiful, and I fell in love with her all over again',\n",
       " ' Until then, I had thought I could never love anything as much as I loved my wife, but when I gazed into my baby’s face, I was struck senseless by my love for her',\n",
       " ' I felt a sudden, staggering sense of gratitude for the rich joys of my life—I had been given so much love and happiness—and I realized that every grueling step I had taken through that godforsaken wilderness was a step toward the tiny, precious miracle I held in my arms',\n",
       " ' He was never an openly affectionate man, but I never doubted his love when I was a boy',\n",
       " ' When I was in the mountains, stranded in the shadows of death, that love was like a safety line anchored in the world of the living',\n",
       " ' As long as I held on to that love, I was not lost, I was connected to my home and to my future, and in the end it was that strong cord of love that led me out of danger',\n",
       " ' There was love, the love in my heart, and for one incredible moment, as I felt this love swell—love for my father, for my future, for the simple wonder of being alive—death lost its power',\n",
       " ' I love to travel',\n",
       " ' I believe life should be enjoyed, but my experiences have taught me that without the love of my family and my friends, all the trappings of worldly success would ring hollow',\n",
       " ' I savor them and let each one become a miniature eternity, and by living these small moments of my life so fully, I defy the shadow of death that hovers over all of us, I reaffirm my love and gratitude for all the gifts I’ve been given, and I fill myself more and more deeply with life',\n",
       " ' I open myself to it, I try to direct that tide of love toward the people who are close to me, hoping to protect them and bind them to me forever and connect us all to whatever there is in the world that is eternal',\n",
       " ' In the mountains, it was love that kept me connected to the world of the living',\n",
       " ' I had no expertise to draw on, so I relied upon the trust I felt in my love for my father and my future, and that trust led me home',\n",
       " ' Now I am convinced that if there is something divine in the universe, the only way I will find it is through the love I feel for my family and my friends, and through the simple wonder of being alive',\n",
       " ' I have tried to love my friends with a loyal and generous heart']"
      ]
     },
     "execution_count": 25,
     "metadata": {},
     "output_type": "execute_result"
    }
   ],
   "source": [
    "pattern=re.compile(\"[^.]* love [^.]*\")\n",
    "findings=re.findall(pattern,book)\n",
    "findings"
   ]
  },
  {
   "cell_type": "code",
   "execution_count": null,
   "id": "d870489b-0ae0-4fb3-8c82-4b2cac59d734",
   "metadata": {},
   "outputs": [],
   "source": []
  }
 ],
 "metadata": {
  "kernelspec": {
   "display_name": "Python 3 (ipykernel)",
   "language": "python",
   "name": "python3"
  },
  "language_info": {
   "codemirror_mode": {
    "name": "ipython",
    "version": 3
   },
   "file_extension": ".py",
   "mimetype": "text/x-python",
   "name": "python",
   "nbconvert_exporter": "python",
   "pygments_lexer": "ipython3",
   "version": "3.13.2"
  }
 },
 "nbformat": 4,
 "nbformat_minor": 5
}
